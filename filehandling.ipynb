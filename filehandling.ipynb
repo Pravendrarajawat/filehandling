{
 "cells": [
  {
   "cell_type": "markdown",
   "id": "6fdd1d01-696a-47e9-a583-579319350d9b",
   "metadata": {},
   "source": [
    "# file handling"
   ]
  },
  {
   "cell_type": "code",
   "execution_count": 1,
   "id": "760c4d4f-e4f2-4fa4-8348-e796ecdcc8bb",
   "metadata": {},
   "outputs": [],
   "source": [
    "import os"
   ]
  },
  {
   "cell_type": "markdown",
   "id": "43474381-8756-4606-9a3a-9b77e10a8491",
   "metadata": {},
   "source": [
    "# read"
   ]
  },
  {
   "cell_type": "code",
   "execution_count": 4,
   "id": "6caa21a1-fd20-45c6-9589-84e1e468c9b8",
   "metadata": {},
   "outputs": [
    {
     "name": "stdout",
     "output_type": "stream",
     "text": [
      "hii i am ayush singh\n",
      "i am from kanpur\n"
     ]
    }
   ],
   "source": [
    "file = open(\"F:/mytxt.txt\",\"r\")\n",
    "print(file.read())\n",
    "file.close()"
   ]
  },
  {
   "cell_type": "code",
   "execution_count": 5,
   "id": "22640609-d0a1-4707-a17c-f65c76a423ab",
   "metadata": {},
   "outputs": [
    {
     "name": "stdout",
     "output_type": "stream",
     "text": [
      "hii i a\n"
     ]
    }
   ],
   "source": [
    "file = open(\"F:/mytxt.txt\",\"r\")\n",
    "print(file.read(7))"
   ]
  },
  {
   "cell_type": "code",
   "execution_count": 6,
   "id": "dd3aded5-4ba8-4cb0-bdb0-a24284cb1202",
   "metadata": {},
   "outputs": [
    {
     "name": "stdout",
     "output_type": "stream",
     "text": [
      "hii i am ayush singh\n",
      "\n"
     ]
    }
   ],
   "source": [
    "file = open(\"F:/mytxt.txt\",\"r\")\n",
    "print(file.readline())"
   ]
  },
  {
   "cell_type": "code",
   "execution_count": 7,
   "id": "eebdc414-c4d0-4b43-80af-3b1872d2150f",
   "metadata": {},
   "outputs": [
    {
     "name": "stdout",
     "output_type": "stream",
     "text": [
      "['hii i am ayush singh\\n', 'i am from kanpur']\n"
     ]
    }
   ],
   "source": [
    "file = open(\"F:/mytxt.txt\",\"r\")\n",
    "print(file.readlines())\n",
    "file.close()"
   ]
  },
  {
   "cell_type": "markdown",
   "id": "70f8a8fb-a1cf-44b6-b173-1fe85289d45d",
   "metadata": {},
   "source": [
    "# write"
   ]
  },
  {
   "cell_type": "code",
   "execution_count": 8,
   "id": "611a3849-2a3c-40d3-a0b8-51589cd6b843",
   "metadata": {},
   "outputs": [],
   "source": [
    "file = open(\"F:/mytxt.txt\",\"w\")\n",
    "file.write(\"currently i live in greater noida\")\n",
    "file.close()"
   ]
  },
  {
   "cell_type": "code",
   "execution_count": 9,
   "id": "b722ff64-f231-44c1-b94e-55487b4d55e5",
   "metadata": {},
   "outputs": [
    {
     "name": "stdout",
     "output_type": "stream",
     "text": [
      "currently i live in greater noida\n"
     ]
    }
   ],
   "source": [
    "file = open(\"F:/mytxt.txt\",\"r\")\n",
    "print(file.read())\n",
    "file.close()"
   ]
  },
  {
   "cell_type": "markdown",
   "id": "c32bc258-9b85-4dfd-afae-2fc1aa048a3e",
   "metadata": {},
   "source": [
    "# creat"
   ]
  },
  {
   "cell_type": "code",
   "execution_count": 10,
   "id": "4350410f-d38c-4374-94d2-2d54cdb9b147",
   "metadata": {},
   "outputs": [],
   "source": [
    "file = open(\"F:/ayushtxt.txt\",\"x\")\n",
    "file.write(\"my father is arunendra singh\")\n",
    "file.close()"
   ]
  },
  {
   "cell_type": "code",
   "execution_count": 11,
   "id": "b059d364-3c61-4db5-9ad5-0e8932c6d0c5",
   "metadata": {},
   "outputs": [
    {
     "name": "stdout",
     "output_type": "stream",
     "text": [
      "my father is arunendra singh\n"
     ]
    }
   ],
   "source": [
    "file = open(\"F:/ayushtxt.txt\",\"r\")\n",
    "print(file.read())\n",
    "file.close()"
   ]
  },
  {
   "cell_type": "markdown",
   "id": "4cb446d0-fcf6-487f-8b5a-372728b0879e",
   "metadata": {},
   "source": [
    "# remove the file"
   ]
  },
  {
   "cell_type": "code",
   "execution_count": 12,
   "id": "42b29fbb-2372-42bb-9a8b-6a746c88ed6c",
   "metadata": {},
   "outputs": [],
   "source": [
    "os.remove(\"F:/ayushtxt.txt\")"
   ]
  },
  {
   "cell_type": "code",
   "execution_count": 13,
   "id": "3ce35d24-0e66-429b-ab4c-9230d8276679",
   "metadata": {},
   "outputs": [
    {
     "ename": "FileNotFoundError",
     "evalue": "[Errno 2] No such file or directory: 'F:/ayushtxt.txt'",
     "output_type": "error",
     "traceback": [
      "\u001b[1;31m---------------------------------------------------------------------------\u001b[0m",
      "\u001b[1;31mFileNotFoundError\u001b[0m                         Traceback (most recent call last)",
      "Cell \u001b[1;32mIn[13], line 1\u001b[0m\n\u001b[1;32m----> 1\u001b[0m file \u001b[38;5;241m=\u001b[39m \u001b[38;5;28;43mopen\u001b[39;49m\u001b[43m(\u001b[49m\u001b[38;5;124;43m\"\u001b[39;49m\u001b[38;5;124;43mF:/ayushtxt.txt\u001b[39;49m\u001b[38;5;124;43m\"\u001b[39;49m\u001b[43m,\u001b[49m\u001b[38;5;124;43m\"\u001b[39;49m\u001b[38;5;124;43mr\u001b[39;49m\u001b[38;5;124;43m\"\u001b[39;49m\u001b[43m)\u001b[49m\n\u001b[0;32m      2\u001b[0m \u001b[38;5;28mprint\u001b[39m(file\u001b[38;5;241m.\u001b[39mread())\n\u001b[0;32m      3\u001b[0m file\u001b[38;5;241m.\u001b[39mclose()\n",
      "File \u001b[1;32m~\\AppData\\Roaming\\Python\\Python311\\site-packages\\IPython\\core\\interactiveshell.py:284\u001b[0m, in \u001b[0;36m_modified_open\u001b[1;34m(file, *args, **kwargs)\u001b[0m\n\u001b[0;32m    277\u001b[0m \u001b[38;5;28;01mif\u001b[39;00m file \u001b[38;5;129;01min\u001b[39;00m {\u001b[38;5;241m0\u001b[39m, \u001b[38;5;241m1\u001b[39m, \u001b[38;5;241m2\u001b[39m}:\n\u001b[0;32m    278\u001b[0m     \u001b[38;5;28;01mraise\u001b[39;00m \u001b[38;5;167;01mValueError\u001b[39;00m(\n\u001b[0;32m    279\u001b[0m         \u001b[38;5;124mf\u001b[39m\u001b[38;5;124m\"\u001b[39m\u001b[38;5;124mIPython won\u001b[39m\u001b[38;5;124m'\u001b[39m\u001b[38;5;124mt let you open fd=\u001b[39m\u001b[38;5;132;01m{\u001b[39;00mfile\u001b[38;5;132;01m}\u001b[39;00m\u001b[38;5;124m by default \u001b[39m\u001b[38;5;124m\"\u001b[39m\n\u001b[0;32m    280\u001b[0m         \u001b[38;5;124m\"\u001b[39m\u001b[38;5;124mas it is likely to crash IPython. If you know what you are doing, \u001b[39m\u001b[38;5;124m\"\u001b[39m\n\u001b[0;32m    281\u001b[0m         \u001b[38;5;124m\"\u001b[39m\u001b[38;5;124myou can use builtins\u001b[39m\u001b[38;5;124m'\u001b[39m\u001b[38;5;124m open.\u001b[39m\u001b[38;5;124m\"\u001b[39m\n\u001b[0;32m    282\u001b[0m     )\n\u001b[1;32m--> 284\u001b[0m \u001b[38;5;28;01mreturn\u001b[39;00m \u001b[43mio_open\u001b[49m\u001b[43m(\u001b[49m\u001b[43mfile\u001b[49m\u001b[43m,\u001b[49m\u001b[43m \u001b[49m\u001b[38;5;241;43m*\u001b[39;49m\u001b[43margs\u001b[49m\u001b[43m,\u001b[49m\u001b[43m \u001b[49m\u001b[38;5;241;43m*\u001b[39;49m\u001b[38;5;241;43m*\u001b[39;49m\u001b[43mkwargs\u001b[49m\u001b[43m)\u001b[49m\n",
      "\u001b[1;31mFileNotFoundError\u001b[0m: [Errno 2] No such file or directory: 'F:/ayushtxt.txt'"
     ]
    }
   ],
   "source": [
    "file = open(\"F:/ayushtxt.txt\",\"r\")\n",
    "print(file.read())\n",
    "file.close()"
   ]
  },
  {
   "cell_type": "code",
   "execution_count": 16,
   "id": "5051184a-6d13-44cc-956a-6e2bfa0baaa2",
   "metadata": {},
   "outputs": [
    {
     "name": "stdout",
     "output_type": "stream",
     "text": [
      "currently i live in greater noida\n"
     ]
    }
   ],
   "source": [
    "file = open(\"F:/mytxt.txt\",\"r\")\n",
    "print(file.read())\n",
    "file.close()"
   ]
  },
  {
   "cell_type": "markdown",
   "id": "eaf13a33-8cd1-4e47-b4c4-a89e6ca1a239",
   "metadata": {},
   "source": [
    "# append"
   ]
  },
  {
   "cell_type": "code",
   "execution_count": 20,
   "id": "d71820d0-2b0f-4b95-afd1-35df3d121dec",
   "metadata": {},
   "outputs": [],
   "source": [
    "file = open(\"F:/mytxt.txt\",\"a\")\n",
    "file.write(\" \\n bs ab khtm ho gya......it's end \")\n",
    "file.close()"
   ]
  },
  {
   "cell_type": "code",
   "execution_count": 22,
   "id": "ac7c1aa6-05f1-4575-9b9b-290b1d6d34b8",
   "metadata": {},
   "outputs": [
    {
     "name": "stdout",
     "output_type": "stream",
     "text": [
      "currently i live in greater noidabs ab khtm ho gya......it's end  \n",
      " bs ab khtm ho gya......it's end \n"
     ]
    }
   ],
   "source": [
    "file = open(\"F:/mytxt.txt\",\"r\")\n",
    "print(file.read())\n",
    "file.close()"
   ]
  },
  {
   "cell_type": "code",
   "execution_count": null,
   "id": "3e0e6dc7-d117-4bfc-bf61-f170ea85c305",
   "metadata": {},
   "outputs": [],
   "source": []
  }
 ],
 "metadata": {
  "kernelspec": {
   "display_name": "Python 3 (ipykernel)",
   "language": "python",
   "name": "python3"
  },
  "language_info": {
   "codemirror_mode": {
    "name": "ipython",
    "version": 3
   },
   "file_extension": ".py",
   "mimetype": "text/x-python",
   "name": "python",
   "nbconvert_exporter": "python",
   "pygments_lexer": "ipython3",
   "version": "3.11.4"
  }
 },
 "nbformat": 4,
 "nbformat_minor": 5
}
